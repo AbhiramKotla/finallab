{
 "cells": [
  {
   "cell_type": "code",
   "execution_count": 29,
   "metadata": {
    "collapsed": true,
    "ExecuteTime": {
     "start_time": "2023-04-20T00:38:03.449471Z",
     "end_time": "2023-04-20T00:38:03.453506Z"
    }
   },
   "outputs": [],
   "source": [
    "class Queue:\n",
    "    def __init__(self, size):\n",
    "        self.size = size\n",
    "        self.Q = [None] * size\n",
    "        self.front = -1\n",
    "        self.rear = -1\n",
    "\n",
    "    def isempty(self):\n",
    "        return self.front == -1 and self.rear == -1\n",
    "\n",
    "    def isfull(self):\n",
    "        return ((self.rear == self.size - 1) and (self.front == 0 or self.front== self.rear)) or (self.front == self.rear and self.front == self.size)\n",
    "\n",
    "    def enqueue(self, value):\n",
    "        if self.isempty():\n",
    "            self.front += 1\n",
    "            self.rear += 1\n",
    "            self.Q[self.rear] = value\n",
    "        elif self.isfull():\n",
    "            print('overflow!!!')\n",
    "        else:\n",
    "            self.rear += 1\n",
    "            self.Q[self.rear] = value\n",
    "    def dequeue(self):\n",
    "        if self.front == self.rear and self.front == self.size - 1:\n",
    "            self.Q[self.front] = None\n",
    "            self.front += 1\n",
    "            self.rear += 1\n",
    "\n",
    "        elif self.isempty():\n",
    "            print('underflow')\n",
    "        else:\n",
    "            self.Q[self.front] = None\n",
    "            self.front += 1\n",
    "\n",
    "    def display(self):\n",
    "        print(self.Q[self.front:self.rear+1])\n"
   ]
  },
  {
   "cell_type": "code",
   "execution_count": 30,
   "outputs": [
    {
     "name": "stdout",
     "output_type": "stream",
     "text": [
      "[20, 30, 40, 50]\n"
     ]
    }
   ],
   "source": [
    "q = Queue(5)\n",
    "q.enqueue(10)\n",
    "q.enqueue(20)\n",
    "q.enqueue(30)\n",
    "q.enqueue(40)\n",
    "q.enqueue(50)\n",
    "q.dequeue()\n",
    "q.display()"
   ],
   "metadata": {
    "collapsed": false,
    "ExecuteTime": {
     "start_time": "2023-04-20T00:38:04.167968Z",
     "end_time": "2023-04-20T00:38:04.173034Z"
    }
   }
  },
  {
   "cell_type": "code",
   "execution_count": 34,
   "outputs": [
    {
     "data": {
      "text/plain": "20"
     },
     "execution_count": 34,
     "metadata": {},
     "output_type": "execute_result"
    }
   ],
   "source": [],
   "metadata": {
    "collapsed": false,
    "ExecuteTime": {
     "start_time": "2023-04-20T00:39:32.864083Z",
     "end_time": "2023-04-20T00:39:32.870884Z"
    }
   }
  },
  {
   "cell_type": "code",
   "execution_count": 32,
   "outputs": [
    {
     "data": {
      "text/plain": "4"
     },
     "execution_count": 32,
     "metadata": {},
     "output_type": "execute_result"
    }
   ],
   "source": [
    "q.rear"
   ],
   "metadata": {
    "collapsed": false,
    "ExecuteTime": {
     "start_time": "2023-04-20T00:38:28.358489Z",
     "end_time": "2023-04-20T00:38:28.362680Z"
    }
   }
  },
  {
   "cell_type": "code",
   "execution_count": 24,
   "outputs": [
    {
     "data": {
      "text/plain": "True"
     },
     "execution_count": 24,
     "metadata": {},
     "output_type": "execute_result"
    }
   ],
   "source": [
    "q.isfull()"
   ],
   "metadata": {
    "collapsed": false,
    "ExecuteTime": {
     "start_time": "2023-04-20T00:35:32.265876Z",
     "end_time": "2023-04-20T00:35:32.271070Z"
    }
   }
  },
  {
   "cell_type": "code",
   "execution_count": 19,
   "outputs": [
    {
     "data": {
      "text/plain": "False"
     },
     "execution_count": 19,
     "metadata": {},
     "output_type": "execute_result"
    }
   ],
   "source": [
    "q.isempty()"
   ],
   "metadata": {
    "collapsed": false,
    "ExecuteTime": {
     "start_time": "2023-04-20T00:20:00.114810Z",
     "end_time": "2023-04-20T00:20:00.121510Z"
    }
   }
  },
  {
   "cell_type": "code",
   "execution_count": null,
   "outputs": [],
   "source": [],
   "metadata": {
    "collapsed": false
   }
  }
 ],
 "metadata": {
  "kernelspec": {
   "display_name": "Python 3",
   "language": "python",
   "name": "python3"
  },
  "language_info": {
   "codemirror_mode": {
    "name": "ipython",
    "version": 2
   },
   "file_extension": ".py",
   "mimetype": "text/x-python",
   "name": "python",
   "nbconvert_exporter": "python",
   "pygments_lexer": "ipython2",
   "version": "2.7.6"
  }
 },
 "nbformat": 4,
 "nbformat_minor": 0
}
