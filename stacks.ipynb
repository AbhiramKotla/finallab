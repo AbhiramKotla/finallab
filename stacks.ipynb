{
 "cells": [
  {
   "cell_type": "code",
   "execution_count": 4,
   "metadata": {
    "collapsed": true,
    "ExecuteTime": {
     "start_time": "2023-04-20T01:56:22.636378Z",
     "end_time": "2023-04-20T01:56:22.639513Z"
    }
   },
   "outputs": [],
   "source": [
    "operators = ['+','-','*','/','(',')','^']\n",
    "precidency = {'+':1,'-':1,\"*\":2,'/':2,'^':3}\n",
    "def infix_to_postfix(s):\n",
    "    d = \"\"\n",
    "    stack = []\n",
    "    for i in s:\n",
    "        if i not in operators:\n",
    "            d += i\n",
    "        elif i == '(':\n",
    "            stack.append('(')\n",
    "        elif i == ')':\n",
    "            while stack and stack[-1] != '(':\n",
    "                d += stack.pop()\n",
    "            stack.pop()\n",
    "        else:\n",
    "            while stack and stack[-1] != '(' and precidency[i] <= precidency[stack[-1]]:\n",
    "                d += stack.pop()\n",
    "            stack.append(i)\n",
    "    while stack:\n",
    "        d += stack.pop()\n",
    "    return d\n",
    "\n"
   ]
  },
  {
   "cell_type": "code",
   "execution_count": 6,
   "outputs": [],
   "source": [
    "operators = ['+','-','*','/','(',')','^']\n",
    "precidency = {'+':1,'-':1,\"*\":2,'/':2,'^':3}\n",
    "def infix_to_prefix(s):\n",
    "    s = s[::-1]\n",
    "    d = \"\"\n",
    "    stack = []\n",
    "    for i in s:\n",
    "        if i not in operators:\n",
    "            d += i\n",
    "        elif i == ')':\n",
    "            stack.append(')')\n",
    "        elif i == '(':\n",
    "            while stack and stack[-1] != ')':\n",
    "                d += stack.pop()\n",
    "            stack.pop()\n",
    "        else:\n",
    "            while stack and stack[-1] != ')' and precidency[i] < precidency[stack[-1]]:\n",
    "                d += stack.pop()\n",
    "            stack.append(i)\n",
    "    while stack:\n",
    "        d += stack.pop()\n",
    "    return d[::-1]\n"
   ],
   "metadata": {
    "collapsed": false,
    "ExecuteTime": {
     "start_time": "2023-04-20T01:56:25.321791Z",
     "end_time": "2023-04-20T01:56:25.323410Z"
    }
   }
  },
  {
   "cell_type": "code",
   "execution_count": 20,
   "outputs": [],
   "source": [
    "operators = ['+','-','*','/','//']\n",
    "def postfix_eval(s):\n",
    "    s = s.split(' ')\n",
    "    stack = []\n",
    "    for i in s:\n",
    "        if i not in operators:\n",
    "            stack.append(i)\n",
    "        else:\n",
    "            a = stack.pop()\n",
    "            b = stack.pop()\n",
    "            stack.append('('+b+i+a+')')\n",
    "    return stack[0]\n"
   ],
   "metadata": {
    "collapsed": false,
    "ExecuteTime": {
     "start_time": "2023-04-20T01:58:26.379449Z",
     "end_time": "2023-04-20T01:58:26.384198Z"
    }
   }
  },
  {
   "cell_type": "code",
   "execution_count": 24,
   "outputs": [],
   "source": [
    "operators = ['+','-','*','/','//']\n",
    "def prefix_eval(s):\n",
    "    s = s[::-1]\n",
    "    s = s.split(' ')\n",
    "    stack = []\n",
    "    for i in s:\n",
    "        if i not in operators:\n",
    "            stack.append(float(i))\n",
    "        else:\n",
    "            a = stack.pop()\n",
    "            b = stack.pop()\n",
    "            if i == '+':\n",
    "                stack.append(a+b)\n",
    "            elif i == '-':\n",
    "                stack.append(a-b)\n",
    "            elif i == '*':\n",
    "                stack.append(a*b)\n",
    "            elif i == '/':\n",
    "                stack.append(a/b)\n",
    "            elif i == '//':\n",
    "                stack.append(a//b)\n",
    "    return stack\n"
   ],
   "metadata": {
    "collapsed": false,
    "ExecuteTime": {
     "start_time": "2023-04-20T02:03:49.913314Z",
     "end_time": "2023-04-20T02:03:49.915867Z"
    }
   }
  },
  {
   "cell_type": "code",
   "execution_count": 25,
   "outputs": [
    {
     "name": "stdout",
     "output_type": "stream",
     "text": [
      "--/ABC/AKL*\n"
     ]
    }
   ],
   "source": [
    "s = 'ABC/-AK/L-*'\n",
    "k = postfix_eval(s)\n",
    "y = infix_to_prefix(k)\n",
    "print(y)"
   ],
   "metadata": {
    "collapsed": false,
    "ExecuteTime": {
     "start_time": "2023-04-20T02:03:50.860912Z",
     "end_time": "2023-04-20T02:03:50.864816Z"
    }
   }
  },
  {
   "cell_type": "code",
   "execution_count": null,
   "outputs": [],
   "source": [],
   "metadata": {
    "collapsed": false
   }
  }
 ],
 "metadata": {
  "kernelspec": {
   "display_name": "Python 3",
   "language": "python",
   "name": "python3"
  },
  "language_info": {
   "codemirror_mode": {
    "name": "ipython",
    "version": 2
   },
   "file_extension": ".py",
   "mimetype": "text/x-python",
   "name": "python",
   "nbconvert_exporter": "python",
   "pygments_lexer": "ipython2",
   "version": "2.7.6"
  }
 },
 "nbformat": 4,
 "nbformat_minor": 0
}
