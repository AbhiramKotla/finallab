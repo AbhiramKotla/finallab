{
 "cells": [
  {
   "cell_type": "code",
   "execution_count": 15,
   "metadata": {
    "collapsed": true,
    "ExecuteTime": {
     "start_time": "2023-04-19T10:17:38.929666Z",
     "end_time": "2023-04-19T10:17:38.935306Z"
    }
   },
   "outputs": [
    {
     "name": "stdout",
     "output_type": "stream",
     "text": [
      "[[0, 1, -4, 3], [6, 0, 2, 2], [11, 5, 0, 7], [12, 6, 1, 0]]\n"
     ]
    }
   ],
   "source": [
    "class Graph:\n",
    "    def __init__(self, vertices):\n",
    "        self.vertices = vertices\n",
    "        self.graph = [[0] * vertices] * vertices\n",
    "\n",
    "    def displaygraph(self):\n",
    "        print(self.graph)\n",
    "\n",
    "    def cost(self, a, b):\n",
    "        if self.graph[a][b] != 0:\n",
    "            return self.graph[a][b]\n",
    "        return 9999\n",
    "    def floyds(self):\n",
    "        INF = 9999\n",
    "        for i in range(self.vertices):\n",
    "            for j in range(self.vertices):\n",
    "                if i != j and self.graph[i][j] == 0:\n",
    "                    self.graph[i][j] = INF\n",
    "        D0 = self.graph.copy()\n",
    "        D1 = D0.copy()\n",
    "        for i in range(self.vertices):\n",
    "            for j in range(self.vertices):\n",
    "                if i != 0 and j != 0:\n",
    "                    if D0[i][0] + D0[0][j] < D0[i][j]  and D0[i][0] != INF and D0[0][j] != INF:\n",
    "                        D0[i][j] = D0[i][0] + D0[0][j]\n",
    "        D2 = D1.copy()\n",
    "        for i in range(self.vertices):\n",
    "            for j in range(self.vertices):\n",
    "                if i != 1 and j != 1:\n",
    "                    if D1[i][1] + D1[1][j] < D1[i][j] and D1[i][1] != INF and D1[1][j] != INF:\n",
    "                        D1[i][j] = D1[i][1] + D1[1][j]\n",
    "        D3 = D2.copy()\n",
    "        for i in range(self.vertices):\n",
    "            for j in range(self.vertices):\n",
    "                if i != 2 and j != 2:\n",
    "                    if D2[i][2] + D2[2][j] < D2[i][j] and D2[i][2] != INF and D2[2][j] != INF:\n",
    "                        D2[i][j] = D2[i][2] + D2[2][j]\n",
    "        return D3\n",
    "\n",
    "g = Graph(4)\n",
    "g.graph = [[0,9,-4,0],\n",
    "           [6,0,0,2],\n",
    "           [0,5,0,0],\n",
    "           [0,0,1,0]]\n",
    "\n",
    "print(g.floyds())"
   ]
  },
  {
   "cell_type": "code",
   "execution_count": 18,
   "outputs": [
    {
     "data": {
      "text/plain": "[[[0, 0, 0, 0], [0, 0, 0, 0], [0, 0, 0, 0], [0, 0, 0, 0]],\n [[0, 0, 0, 0], [0, 0, 0, 0], [0, 0, 0, 0], [0, 0, 0, 0]],\n [[0, 0, 0, 0], [0, 0, 0, 0], [0, 0, 0, 0], [0, 0, 0, 0]]]"
     },
     "execution_count": 18,
     "metadata": {},
     "output_type": "execute_result"
    }
   ],
   "source": [
    "v = 4\n",
    "D = [[[0]*v]*v]*(v-1)\n",
    "D"
   ],
   "metadata": {
    "collapsed": false,
    "ExecuteTime": {
     "start_time": "2023-04-19T10:49:46.483488Z",
     "end_time": "2023-04-19T10:49:46.491417Z"
    }
   }
  },
  {
   "cell_type": "code",
   "execution_count": null,
   "outputs": [],
   "source": [],
   "metadata": {
    "collapsed": false
   }
  }
 ],
 "metadata": {
  "kernelspec": {
   "display_name": "Python 3",
   "language": "python",
   "name": "python3"
  },
  "language_info": {
   "codemirror_mode": {
    "name": "ipython",
    "version": 2
   },
   "file_extension": ".py",
   "mimetype": "text/x-python",
   "name": "python",
   "nbconvert_exporter": "python",
   "pygments_lexer": "ipython2",
   "version": "2.7.6"
  }
 },
 "nbformat": 4,
 "nbformat_minor": 0
}
