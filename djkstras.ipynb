{
 "cells": [
  {
   "cell_type": "code",
   "execution_count": 1,
   "metadata": {
    "collapsed": true,
    "ExecuteTime": {
     "start_time": "2023-04-20T08:18:15.380024Z",
     "end_time": "2023-04-20T08:18:15.385225Z"
    }
   },
   "outputs": [],
   "source": [
    "class Graph:\n",
    "    def __init__(self, vertices):\n",
    "        self.vertices = vertices\n",
    "        self.graph = [[0] * vertices] * vertices\n",
    "\n",
    "    def displaygraph(self):\n",
    "        print(self.graph)\n",
    "\n",
    "    def neighbours(self, x):\n",
    "        lst = []\n",
    "        for i in range(self.vertices):\n",
    "            if self.graph[x][i] != 0:\n",
    "                lst.append(i)\n",
    "        return lst\n",
    "\n",
    "    def cost(self, a, b):\n",
    "        if self.graph[a][b] != 0:\n",
    "            return self.graph[a][b]\n",
    "        return 2 ** 63 -1\n",
    "\n",
    "    def djkstra(self,i):\n",
    "        INF = 2 ** 63 - 1\n",
    "        d = [INF] * (self.vertices - 1)\n",
    "        d.insert(i, 0)\n",
    "        visited = []\n",
    "\n",
    "        def repeat(i):\n",
    "            k = self.neighbours(i)\n",
    "            K = []\n",
    "            for p in range(len(k)):\n",
    "                if k[p] not in visited:\n",
    "                 K.append(k[p])\n",
    "            k = K[:]\n",
    "            u = i\n",
    "            if len(k) != 0:\n",
    "                for j in range(len(k)):\n",
    "                    v = k[j]\n",
    "                    if d[u] + self.cost(u,v) < d[v]:\n",
    "                        d[v] = d[u] + self.cost(u,v)\n",
    "                visited.append(i)\n",
    "                z = d.copy()\n",
    "                for number_of_popping in range(len(visited)):\n",
    "                    z.pop(z.index(min(z)))\n",
    "\n",
    "                if z:\n",
    "                    i = d.index(min(z))\n",
    "                    if i in visited:\n",
    "                        temp = d.copy()\n",
    "                        temp[i] = None\n",
    "                        i = temp.index(min(z))\n",
    "                    return repeat(i)\n",
    "                else:\n",
    "                    return d\n",
    "            else:\n",
    "                return d\n",
    "\n",
    "\n",
    "        d = repeat(i)\n",
    "        print('shortest distance from ',i)\n",
    "        for j in range(len(d)):\n",
    "            if i != j:\n",
    "                print(i,'--',j,'=',d[j])\n",
    "        return 'completed successfully'\n",
    "\n",
    "\n",
    "\n",
    "g = Graph(9)\n",
    "g.graph = [[0, 4, 0, 0, 8, 0, 0, 0, 0],\n",
    " [4, 0, 8, 0, 11, 0, 0, 0, 0],\n",
    " [0, 8, 0, 7, 0, 0, 4, 0, 2],\n",
    " [0, 0, 7, 0, 0, 0, 14,9, 0],\n",
    " [8, 11, 0, 0, 0, 1, 0, 0, 7],\n",
    " [0, 0, 0, 0, 1, 0, 2, 0, 6],\n",
    " [0, 0, 4, 14, 0, 2, 0, 10, 0],\n",
    " [0, 0, 0, 9, 0, 0, 10, 0, 0],\n",
    " [0, 0, 2, 0, 7, 6, 0, 0, 0]]\n"
   ]
  },
  {
   "cell_type": "code",
   "execution_count": 2,
   "outputs": [
    {
     "name": "stdout",
     "output_type": "stream",
     "text": [
      "shortest distance from  0\n",
      "0 -- 1 = 4\n",
      "0 -- 2 = 12\n",
      "0 -- 3 = 19\n",
      "0 -- 4 = 8\n",
      "0 -- 5 = 9\n",
      "0 -- 6 = 11\n",
      "0 -- 7 = 21\n",
      "0 -- 8 = 14\n"
     ]
    },
    {
     "data": {
      "text/plain": "'completed successfully'"
     },
     "execution_count": 2,
     "metadata": {},
     "output_type": "execute_result"
    }
   ],
   "source": [
    "g.djkstra(0)"
   ],
   "metadata": {
    "collapsed": false,
    "ExecuteTime": {
     "start_time": "2023-04-20T08:18:15.388559Z",
     "end_time": "2023-04-20T08:18:15.398562Z"
    }
   }
  },
  {
   "cell_type": "code",
   "execution_count": null,
   "outputs": [],
   "source": [],
   "metadata": {
    "collapsed": false
   }
  }
 ],
 "metadata": {
  "kernelspec": {
   "display_name": "Python 3",
   "language": "python",
   "name": "python3"
  },
  "language_info": {
   "codemirror_mode": {
    "name": "ipython",
    "version": 2
   },
   "file_extension": ".py",
   "mimetype": "text/x-python",
   "name": "python",
   "nbconvert_exporter": "python",
   "pygments_lexer": "ipython2",
   "version": "2.7.6"
  }
 },
 "nbformat": 4,
 "nbformat_minor": 0
}
