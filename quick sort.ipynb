{
 "cells": [
  {
   "cell_type": "code",
   "execution_count": 8,
   "metadata": {
    "collapsed": true,
    "ExecuteTime": {
     "start_time": "2023-04-18T16:23:25.044928Z",
     "end_time": "2023-04-18T16:23:25.047611Z"
    }
   },
   "outputs": [
    {
     "name": "stdout",
     "output_type": "stream",
     "text": [
      "[1, 2, 5, 7, 8, 9, 10]\n"
     ]
    }
   ],
   "source": [
    "def partition(array,low,high):\n",
    "\tpivot = array[high]\n",
    "\ti = low-1\n",
    "\tfor j in range(low,high):\n",
    "\t\tif array[j] < pivot:\n",
    "\t\t\ti += 1\n",
    "\t\t\tarray[i],array[j] = array[j],array[i]\n",
    "\tarray[i+1],array[high] = array[high],array[i+1]\n",
    "\treturn i + 1\n",
    "def quicksort(array,low,high):\n",
    "\tif low < high:\n",
    "\t\tpi = partition(array,low,high)\n",
    "\t\tquicksort(array,low,pi-1)\n",
    "\t\tquicksort(array,pi+1,high)\n",
    "array = [2, 7, 10, 1, 9, 8, 5]\n",
    "quicksort(array, 0, len(array) - 1)\n",
    "print(array)"
   ]
  },
  {
   "cell_type": "code",
   "execution_count": null,
   "outputs": [],
   "source": [],
   "metadata": {
    "collapsed": false
   }
  }
 ],
 "metadata": {
  "kernelspec": {
   "display_name": "Python 3",
   "language": "python",
   "name": "python3"
  },
  "language_info": {
   "codemirror_mode": {
    "name": "ipython",
    "version": 2
   },
   "file_extension": ".py",
   "mimetype": "text/x-python",
   "name": "python",
   "nbconvert_exporter": "python",
   "pygments_lexer": "ipython2",
   "version": "2.7.6"
  }
 },
 "nbformat": 4,
 "nbformat_minor": 0
}
