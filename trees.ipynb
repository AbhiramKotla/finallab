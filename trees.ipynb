{
 "cells": [
  {
   "cell_type": "code",
   "execution_count": 2,
   "outputs": [],
   "source": [
    "class Node:\n",
    "    def __init__(self,data):\n",
    "        self.left = None\n",
    "        self.data = data\n",
    "        self.right = None\n",
    "class BinaryTree:\n",
    "    def __init__(self,data):\n",
    "        self.root = Node(data)\n",
    "    def insert(self,value):\n",
    "        new_node = Node(value)\n",
    "        temp = self.root\n",
    "        while 1:\n",
    "            if value<self.root.data:\n",
    "                if self.root.left!= None:\n",
    "                    self.root = self.root.left\n",
    "                else:\n",
    "                    self.root.left = new_node\n",
    "                    break\n",
    "            else:\n",
    "                if self.root.right!= None:\n",
    "                    self.root = self.root.right\n",
    "                else:\n",
    "                    self.root.right = new_node\n",
    "                    break\n",
    "        self.root = temp\n",
    "    def Inorder(self,root):\n",
    "        if root:\n",
    "            self.Inorder(root.left)\n",
    "            print(root.data,end=',')\n",
    "            self.Inorder(root.right)\n",
    "\n",
    "    def preorder(self,root):\n",
    "        if root:\n",
    "            print(root.data,end=',')\n",
    "            self.Inorder(root.left)\n",
    "            self.Inorder(root.right)\n",
    "    def postorder(self,root):\n",
    "        if root:\n",
    "            self.Inorder(root.left)\n",
    "            self.Inorder(root.right)\n",
    "            print(root.data,end=',')\n",
    "\n",
    "\n"
   ],
   "metadata": {
    "collapsed": false,
    "ExecuteTime": {
     "start_time": "2023-04-19T21:14:35.724186Z",
     "end_time": "2023-04-19T21:14:35.726747Z"
    }
   }
  },
  {
   "cell_type": "code",
   "execution_count": 3,
   "outputs": [
    {
     "name": "stdout",
     "output_type": "stream",
     "text": [
      "3,5,7,8,9,10,11,15,17,"
     ]
    }
   ],
   "source": [
    "t = BinaryTree(10)\n",
    "lst = [5,15,3,8,11,17,7,9]\n",
    "for i in lst:\n",
    "    t.insert(i)\n",
    "t.Inorder(t.root)"
   ],
   "metadata": {
    "collapsed": false,
    "ExecuteTime": {
     "start_time": "2023-04-19T21:14:36.477218Z",
     "end_time": "2023-04-19T21:14:36.481323Z"
    }
   }
  },
  {
   "cell_type": "code",
   "execution_count": 9,
   "outputs": [
    {
     "name": "stdout",
     "output_type": "stream",
     "text": [
      "10,3,5,7,8,9,11,15,17,"
     ]
    }
   ],
   "source": [
    "t.preorder(t.root)"
   ],
   "metadata": {
    "collapsed": false,
    "ExecuteTime": {
     "start_time": "2023-04-19T19:58:43.144117Z",
     "end_time": "2023-04-19T19:58:43.146606Z"
    }
   }
  },
  {
   "cell_type": "code",
   "execution_count": null,
   "outputs": [],
   "source": [],
   "metadata": {
    "collapsed": false
   }
  }
 ],
 "metadata": {
  "kernelspec": {
   "display_name": "Python 3",
   "language": "python",
   "name": "python3"
  },
  "language_info": {
   "codemirror_mode": {
    "name": "ipython",
    "version": 2
   },
   "file_extension": ".py",
   "mimetype": "text/x-python",
   "name": "python",
   "nbconvert_exporter": "python",
   "pygments_lexer": "ipython2",
   "version": "2.7.6"
  }
 },
 "nbformat": 4,
 "nbformat_minor": 0
}
