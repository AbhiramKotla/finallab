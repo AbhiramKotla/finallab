{
 "cells": [
  {
   "cell_type": "code",
   "execution_count": 5,
   "metadata": {
    "collapsed": true,
    "ExecuteTime": {
     "start_time": "2023-04-09T10:39:00.717769Z",
     "end_time": "2023-04-09T10:39:00.725054Z"
    }
   },
   "outputs": [],
   "source": [
    "# assuming it is undirected graph\n",
    "class Graph:\n",
    "    def __init__(self,number_of_vertices):\n",
    "        self.number_of_vertices = number_of_vertices\n",
    "        self.lst = [None]*number_of_vertices\n",
    "        self.matrix = [[0]*number_of_vertices for i in range(number_of_vertices)]\n",
    "    def add_vertex(self,vertex,position):\n",
    "        if position < self.number_of_vertices:\n",
    "            self.lst[position]=vertex\n",
    "    def add_edge(self,v1,v2):\n",
    "        self.matrix[self.lst.index(v1)][self.lst.index(v2)] = 1\n",
    "        self.matrix[self.lst.index(v2)][self.lst.index(v1)] = 1\n",
    "    def print_matrix(self):\n",
    "        for i in self.matrix:\n",
    "            print(i)\n",
    "    def get_adjecent_vertices(self,key):\n",
    "        adj_vertices = []\n",
    "        k = tuple(self.matrix[self.lst.index(key)])\n",
    "        row = self.matrix[self.lst.index(key)]\n",
    "        j = 0\n",
    "        for i in row:\n",
    "            if i == 1:\n",
    "                adj_vertices.append(self.lst[row.index(i)])\n",
    "                row[j] = 0\n",
    "            j += 1\n",
    "        self.matrix[self.lst.index(key)] = list(k)\n",
    "        return adj_vertices\n",
    "\n",
    "    def BFS(self):\n",
    "        Queue = []\n",
    "        visited = []\n",
    "\n",
    "        Queue.append(self.lst[0])\n",
    "        key = Queue.pop(0)\n",
    "        visited.append(key)\n",
    "        def repeat(key):\n",
    "            for k in self.get_adjecent_vertices(key):\n",
    "                if k not in Queue and k not in visited:\n",
    "                    Queue.append(k)\n",
    "            if Queue:\n",
    "                key = Queue.pop(0)\n",
    "                visited.append(key)\n",
    "                return repeat(key)\n",
    "            else:\n",
    "                return visited\n",
    "        return repeat(key)\n",
    "\n",
    "\n",
    "\n",
    "\n",
    "\n"
   ]
  },
  {
   "cell_type": "code",
   "execution_count": 6,
   "outputs": [],
   "source": [
    "g = Graph(7)\n",
    "g.add_vertex('a',0)\n",
    "g.add_vertex('b',1)\n",
    "g.add_vertex('c',2)\n",
    "g.add_vertex('d',3)\n",
    "g.add_vertex('e',4)\n",
    "g.add_vertex('f',5)\n",
    "g.add_vertex('g',6)\n",
    "g.add_edge('a','b')\n",
    "g.add_edge('b','c')\n",
    "g.add_edge('c','d')\n",
    "g.add_edge('a','d')\n",
    "g.add_edge('b','f')\n",
    "g.add_edge('b','g')\n",
    "g.add_edge('c','f')\n",
    "g.add_edge('c','e')\n",
    "g.add_edge('d','e')\n",
    "g.add_edge('g','e')\n"
   ],
   "metadata": {
    "collapsed": false,
    "ExecuteTime": {
     "start_time": "2023-04-09T10:39:04.832172Z",
     "end_time": "2023-04-09T10:39:04.834862Z"
    }
   }
  },
  {
   "cell_type": "code",
   "execution_count": 7,
   "outputs": [
    {
     "name": "stdout",
     "output_type": "stream",
     "text": [
      "[0, 1, 0, 1, 0, 0, 0]\n",
      "[1, 0, 1, 0, 0, 1, 1]\n",
      "[0, 1, 0, 1, 1, 1, 0]\n",
      "[1, 0, 1, 0, 1, 0, 0]\n",
      "[0, 0, 1, 1, 0, 0, 1]\n",
      "[0, 1, 1, 0, 0, 0, 0]\n",
      "[0, 1, 0, 0, 1, 0, 0]\n"
     ]
    }
   ],
   "source": [
    "g.print_matrix()"
   ],
   "metadata": {
    "collapsed": false,
    "ExecuteTime": {
     "start_time": "2023-04-09T10:39:05.800131Z",
     "end_time": "2023-04-09T10:39:05.805263Z"
    }
   }
  },
  {
   "cell_type": "code",
   "execution_count": 8,
   "outputs": [
    {
     "name": "stdout",
     "output_type": "stream",
     "text": [
      "['a', 'b', 'd', 'c', 'f', 'g', 'e']\n"
     ]
    }
   ],
   "source": [
    "print(g.BFS())"
   ],
   "metadata": {
    "collapsed": false,
    "ExecuteTime": {
     "start_time": "2023-04-09T10:39:06.831107Z",
     "end_time": "2023-04-09T10:39:06.834978Z"
    }
   }
  },
  {
   "cell_type": "code",
   "execution_count": 4,
   "outputs": [],
   "source": [],
   "metadata": {
    "collapsed": false,
    "ExecuteTime": {
     "start_time": "2023-04-09T10:37:46.755913Z",
     "end_time": "2023-04-09T10:37:46.760575Z"
    }
   }
  },
  {
   "cell_type": "code",
   "execution_count": 6,
   "outputs": [],
   "source": [],
   "metadata": {
    "collapsed": false,
    "ExecuteTime": {
     "start_time": "2023-04-09T00:43:57.344744Z",
     "end_time": "2023-04-09T00:43:57.362292Z"
    }
   }
  }
 ],
 "metadata": {
  "kernelspec": {
   "display_name": "Python 3",
   "language": "python",
   "name": "python3"
  },
  "language_info": {
   "codemirror_mode": {
    "name": "ipython",
    "version": 2
   },
   "file_extension": ".py",
   "mimetype": "text/x-python",
   "name": "python",
   "nbconvert_exporter": "python",
   "pygments_lexer": "ipython2",
   "version": "2.7.6"
  }
 },
 "nbformat": 4,
 "nbformat_minor": 0
}
