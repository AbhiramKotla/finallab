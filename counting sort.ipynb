{
 "cells": [
  {
   "cell_type": "code",
   "execution_count": 1,
   "metadata": {
    "collapsed": true,
    "ExecuteTime": {
     "start_time": "2023-04-19T18:21:47.795491Z",
     "end_time": "2023-04-19T18:21:47.809355Z"
    }
   },
   "outputs": [
    {
     "data": {
      "text/plain": "[1, 22, 33, 44, 55, 88]"
     },
     "execution_count": 1,
     "metadata": {},
     "output_type": "execute_result"
    }
   ],
   "source": [
    "def countingsort(array):\n",
    "    lst = [0]*(max(array)+1)\n",
    "    for i in array:\n",
    "        lst[i] += 1\n",
    "    for i in range(1,len(lst)):\n",
    "        lst[i] = lst[i] + lst[i-1]\n",
    "    output = [0]*len(array)\n",
    "    for i in array:\n",
    "        k = lst[i] - 1\n",
    "        lst[i] -= 1\n",
    "        output[k] = i\n",
    "    return output\n",
    "array = [22,33,44,55,88,1]\n",
    "countingsort(array)\n"
   ]
  },
  {
   "cell_type": "code",
   "execution_count": 8,
   "outputs": [],
   "source": [],
   "metadata": {
    "collapsed": false,
    "ExecuteTime": {
     "start_time": "2023-04-18T17:01:06.861646Z",
     "end_time": "2023-04-18T17:01:06.864507Z"
    }
   }
  },
  {
   "cell_type": "code",
   "execution_count": null,
   "outputs": [],
   "source": [],
   "metadata": {
    "collapsed": false
   }
  }
 ],
 "metadata": {
  "kernelspec": {
   "display_name": "Python 3",
   "language": "python",
   "name": "python3"
  },
  "language_info": {
   "codemirror_mode": {
    "name": "ipython",
    "version": 2
   },
   "file_extension": ".py",
   "mimetype": "text/x-python",
   "name": "python",
   "nbconvert_exporter": "python",
   "pygments_lexer": "ipython2",
   "version": "2.7.6"
  }
 },
 "nbformat": 4,
 "nbformat_minor": 0
}
