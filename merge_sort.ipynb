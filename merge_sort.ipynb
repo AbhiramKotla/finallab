{
 "cells": [
  {
   "cell_type": "code",
   "execution_count": 1,
   "metadata": {
    "collapsed": true,
    "ExecuteTime": {
     "start_time": "2023-04-20T06:56:45.885465Z",
     "end_time": "2023-04-20T06:56:45.890254Z"
    }
   },
   "outputs": [
    {
     "name": "stdout",
     "output_type": "stream",
     "text": [
      "[1, 2, 20, 40, 50]\n"
     ]
    }
   ],
   "source": [
    "def mergesort(lst):\n",
    "    if len(lst) > 1:\n",
    "        mid = len(lst) // 2\n",
    "        left = lst[:mid]\n",
    "        right = lst[mid:]\n",
    "        mergesort(left)\n",
    "        mergesort(right)\n",
    "        i, j, k = 0, 0, 0\n",
    "        while i < len(left) and j < len(right):\n",
    "            if left[i] < right[j]:\n",
    "                lst[k] = left[i]\n",
    "                i += 1\n",
    "                k += 1\n",
    "            else:\n",
    "                lst[k] = right[j]\n",
    "                j += 1\n",
    "                k += 1\n",
    "        while i < len(left):\n",
    "            lst[k] = left[i]\n",
    "            i += 1\n",
    "            k += 1\n",
    "        while j < len(right):\n",
    "            lst[k] = right[j]\n",
    "            j += 1\n",
    "            k += 1\n",
    "\n",
    "\n",
    "lst = [20, 1, 50, 40, 2]\n",
    "mergesort(lst)\n",
    "print(lst)"
   ]
  },
  {
   "cell_type": "code",
   "execution_count": null,
   "outputs": [],
   "source": [],
   "metadata": {
    "collapsed": false
   }
  }
 ],
 "metadata": {
  "kernelspec": {
   "display_name": "Python 3",
   "language": "python",
   "name": "python3"
  },
  "language_info": {
   "codemirror_mode": {
    "name": "ipython",
    "version": 2
   },
   "file_extension": ".py",
   "mimetype": "text/x-python",
   "name": "python",
   "nbconvert_exporter": "python",
   "pygments_lexer": "ipython2",
   "version": "2.7.6"
  }
 },
 "nbformat": 4,
 "nbformat_minor": 0
}
