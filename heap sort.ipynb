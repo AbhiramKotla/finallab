{
 "cells": [
  {
   "cell_type": "code",
   "execution_count": 4,
   "metadata": {
    "collapsed": true,
    "ExecuteTime": {
     "start_time": "2023-04-20T07:35:05.100766Z",
     "end_time": "2023-04-20T07:35:05.107248Z"
    }
   },
   "outputs": [
    {
     "name": "stdout",
     "output_type": "stream",
     "text": [
      "[1, 2, 20, 40, 50]\n"
     ]
    }
   ],
   "source": [
    "def heapsort(arr):\n",
    "    n = len(arr)\n",
    "    for i in range(n//2-1,-1,-1):\n",
    "        heapify(arr,n,i)\n",
    "    for i in range(n-1,0,-1):\n",
    "        arr[i],arr[0] = arr[0],arr[i]\n",
    "        heapify(arr,i,0)\n",
    "def heapify(arr,n,i):\n",
    "    largest = i\n",
    "    l = 2*i + 1\n",
    "    r = 2 * i + 2\n",
    "    if l < n and arr[i] < arr[l]:\n",
    "        largest = l\n",
    "    if r < n and arr[largest] < arr[r]:\n",
    "        largest = r\n",
    "    if largest != i:\n",
    "        arr[largest],arr[i] = arr[i],arr[largest]\n",
    "        heapify(arr,n,largest)\n",
    "\n",
    "lst = [20, 1, 50, 40, 2]\n",
    "heapsort(lst)\n",
    "print(lst)\n",
    "\n"
   ]
  },
  {
   "cell_type": "code",
   "execution_count": null,
   "outputs": [],
   "source": [],
   "metadata": {
    "collapsed": false
   }
  }
 ],
 "metadata": {
  "kernelspec": {
   "display_name": "Python 3",
   "language": "python",
   "name": "python3"
  },
  "language_info": {
   "codemirror_mode": {
    "name": "ipython",
    "version": 2
   },
   "file_extension": ".py",
   "mimetype": "text/x-python",
   "name": "python",
   "nbconvert_exporter": "python",
   "pygments_lexer": "ipython2",
   "version": "2.7.6"
  }
 },
 "nbformat": 4,
 "nbformat_minor": 0
}
